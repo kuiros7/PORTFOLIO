{
 "cells": [
  {
   "cell_type": "code",
   "execution_count": 1,
   "metadata": {},
   "outputs": [
    {
     "name": "stdout",
     "output_type": "stream",
     "text": [
      "Header:\n",
      "1L63_1|Chain A|LYSOZYME|Enterobacteria phage T4 (10665)\n",
      "Sequence:\n",
      "MNIFEMLRIDEGLRLKIYKDTEGYYTIGIGHLLTKSPSLNAAKSELDKAIGRNTNGVITKDEAEKLFNQDVDAAVRGILRNAKLKPVYDSLDAVRRAALINMVFQMGETGVAGFTNSLRMLQQKRWDEAAVNLAKSRWYNQTPNRAKRVITTFRTGTWDAYKNL\n",
      "\n"
     ]
    }
   ],
   "source": [
    "from bs4 import BeautifulSoup\n",
    "import requests\n",
    "\n",
    "PDB_ID = \"1L63\"\n",
    "\n",
    "url = requests.get(\"https://www.rcsb.org/fasta/entry/\" + PDB_ID + \"/display\")\n",
    "soup = BeautifulSoup(url.content, 'html.parser')\n",
    "fasta_content = \"\".join(soup.contents)\n",
    "\n",
    "header = fasta_content[fasta_content.index(\">\") + 1 : fasta_content.index(\"\\n\")]\n",
    "sequence = fasta_content[fasta_content.index(\"\\n\") + 1  :]\n",
    "\n",
    "print(\"Header:\\n\" + header)\n",
    "print(\"Sequence:\\n\" + sequence)"
   ]
  }
 ],
 "metadata": {
  "kernelspec": {
   "display_name": "base",
   "language": "python",
   "name": "python3"
  },
  "language_info": {
   "codemirror_mode": {
    "name": "ipython",
    "version": 3
   },
   "file_extension": ".py",
   "mimetype": "text/x-python",
   "name": "python",
   "nbconvert_exporter": "python",
   "pygments_lexer": "ipython3",
   "version": "3.8.8"
  },
  "orig_nbformat": 4
 },
 "nbformat": 4,
 "nbformat_minor": 2
}
