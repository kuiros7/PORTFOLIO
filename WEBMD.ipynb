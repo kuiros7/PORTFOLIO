{
 "cells": [
  {
   "cell_type": "code",
   "execution_count": null,
   "metadata": {},
   "outputs": [],
   "source": [
    "from Bio import Entrez\n",
    "from Bio import SeqIO\n",
    "Entrez.email='your@email.com'\n",
    "#search Genbank, returns accession numbers (up to 100)\n",
    "handle=Entrez.esearch(db='nucleotide', retmax=3, term=\"rbcl[All Fields]\", idtype=\"acc\") \n",
    "record = Entrez.read(handle)\n",
    "print(handle)"
   ]
  },
  {
   "cell_type": "code",
   "execution_count": 5,
   "metadata": {},
   "outputs": [
    {
     "name": "stdout",
     "output_type": "stream",
     "text": [
      "<class 'pandas.core.frame.DataFrame'>\n",
      "Int64Index: 331577 entries, 0 to 362805\n",
      "Data columns (total 12 columns):\n",
      " #   Column         Non-Null Count   Dtype         \n",
      "---  ------         --------------   -----         \n",
      " 0   Age            331577 non-null  object        \n",
      " 1   Condition      331577 non-null  object        \n",
      " 2   Date           331577 non-null  datetime64[ns]\n",
      " 3   Drug           331577 non-null  object        \n",
      " 4   DrugId         331577 non-null  int64         \n",
      " 5   EaseofUse      331577 non-null  int64         \n",
      " 6   Effectiveness  331577 non-null  int64         \n",
      " 7   Reviews        331545 non-null  object        \n",
      " 8   Satisfaction   331577 non-null  int64         \n",
      " 9   Sex            331577 non-null  object        \n",
      " 10  Sides          331577 non-null  object        \n",
      " 11  UsefulCount    331577 non-null  int64         \n",
      "dtypes: datetime64[ns](1), int64(5), object(6)\n",
      "memory usage: 32.9+ MB\n",
      "None\n"
     ]
    }
   ],
   "source": [
    "import pandas as pd\n",
    "import matplotlib.pyplot as plt\n",
    "import seaborn as sns\n",
    "import squarify\n",
    "\n",
    "df= pd.read_csv(\"../webmd.csv\")\n",
    "#\"C:\\Users\\52812\\\"\n",
    "df['Date'] = pd.to_datetime(df['Date'], format = '%m/%d/%Y')\n",
    "df.dropna(subset=df.columns.difference(['Reviews']), how='all')\n",
    "\n",
    "#Sex\n",
    "df= df[df.Sex != ' ']\n",
    "df= df[df.Age != ' ']\n",
    "\n",
    "print(df.info())"
   ]
  },
  {
   "cell_type": "code",
   "execution_count": null,
   "metadata": {},
   "outputs": [],
   "source": [
    "#Age\n",
    "#print(df.Age.unique())\n",
    "#df= df[df.Age != ' ']\n",
    "#print(df.Age.value_counts())\n",
    "\n",
    "df_age= df.groupby(['Age']).count()['DrugId'].reset_index()\n",
    "\n",
    "squarify.plot(sizes=df_age['DrugId'], label=df_age['Age'], alpha= 1, pad = 0.2, color = sns.color_palette(\"pastel\"))\n",
    "\n",
    "plt.text(50, 100, 'Age distribution of WebMD', fontsize = 22, color='grey', horizontalalignment='center',\n",
    "         verticalalignment='bottom', zorder = 20) \n",
    "plt.axis('off')\n",
    "plt.show()"
   ]
  },
  {
   "cell_type": "code",
   "execution_count": null,
   "metadata": {},
   "outputs": [],
   "source": [
    "#Most common conditions by age groups\n",
    "df_cond= df.groupby(['Age', 'Condition']).count()['DrugId'].reset_index()\n",
    "df_cond= df_cond[df_cond.Condition != 'Other']\n",
    "\n",
    "Ages = df.Age.unique()\n",
    "\n",
    "df_cond_top= []\n",
    "m=  {}\n",
    "\n",
    "for i in Ages:\n",
    "    m = df_cond[df_cond.Age == i]\n",
    "    m = m.sort_values(by='DrugId', ascending= False).head()#.to_string(header=False)\n",
    "    df_cond_top.append(m)\n",
    "\n",
    "df_cond_top = pd.concat(df_cond_top)\n",
    "print(df_cond_top)"
   ]
  },
  {
   "cell_type": "code",
   "execution_count": null,
   "metadata": {},
   "outputs": [],
   "source": [
    "df.head()\n",
    "#.drop(df.index[0])\n",
    "print(df_cond_top)"
   ]
  },
  {
   "cell_type": "code",
   "execution_count": null,
   "metadata": {},
   "outputs": [],
   "source": [
    "#Bar for unique values\n",
    "#EaseofUse\n",
    "print(df.EaseofUse.value_counts())\n",
    "#Condition\n",
    "print(df.Condition.value_counts())\n",
    "#Satisfaction\n",
    "print(df.Satisfaction.value_counts())\n",
    "#Drug\n",
    "print(df.Drug.value_counts())\n",
    "#Effectiveness\n",
    "print(df.Effectiveness.value_counts())"
   ]
  },
  {
   "cell_type": "code",
   "execution_count": null,
   "metadata": {},
   "outputs": [],
   "source": [
    "df_cond= df.groupby(['Age', 'Condition', 'Effectiveness', 'Sex']).mean()['DrugId'].reset_index()\n",
    "\n",
    "sns.set_theme(style=\"ticks\", palette=\"pastel\")\n",
    "\n",
    "sns.catplot(\n",
    "    data=df_cond , kind=\"bar\",\n",
    "    x=\"Effectiveness\", y = 'DrugId', hue=\"Sex\", aspect = 2,\n",
    "    #ci=\"sd\", \n",
    "    alpha=.6, height=6, palette = 'pastel'\n",
    ")"
   ]
  },
  {
   "cell_type": "code",
   "execution_count": null,
   "metadata": {},
   "outputs": [],
   "source": [
    "df_sat= df.groupby(['Date', 'Sex']).mean()['Effectiveness'].reset_index()\n",
    "ax = sns.set(rc={'figure.figsize':(15,10)})\n",
    "\n",
    "plt.title('Average Price of Avocado by its type 2015-2018')\n",
    "plt.xticks(rotation =45)\n",
    "ax = sns.lineplot(x=\"Date\",y=\"Effectiveness\", hue='Sex', data=df_sat)"
   ]
  },
  {
   "cell_type": "code",
   "execution_count": null,
   "metadata": {},
   "outputs": [],
   "source": [
    "x = df.Drug.value_counts()\n",
    "x"
   ]
  },
  {
   "cell_type": "code",
   "execution_count": null,
   "metadata": {},
   "outputs": [],
   "source": [
    "#Most common conditions\n",
    "df_drug= df.groupby(['Condition']).count()['DrugId'].reset_index()\n",
    "df_drug= df_drug[df_drug.Condition != 'Other']\n",
    "df_drug= df_drug[df_drug.DrugId > 100]\n",
    "df_drug = df_drug.sort_values(by='DrugId', ascending= False)\n",
    "#df_drug = df_drug.head(50)\n",
    "print(df_drug.head(50))"
   ]
  },
  {
   "cell_type": "code",
   "execution_count": null,
   "metadata": {},
   "outputs": [],
   "source": [
    "df.Condition.value_counts()"
   ]
  }
 ],
 "metadata": {
  "kernelspec": {
   "display_name": "base",
   "language": "python",
   "name": "python3"
  },
  "language_info": {
   "codemirror_mode": {
    "name": "ipython",
    "version": 3
   },
   "file_extension": ".py",
   "mimetype": "text/x-python",
   "name": "python",
   "nbconvert_exporter": "python",
   "pygments_lexer": "ipython3",
   "version": "3.8.8"
  },
  "orig_nbformat": 4
 },
 "nbformat": 4,
 "nbformat_minor": 2
}
